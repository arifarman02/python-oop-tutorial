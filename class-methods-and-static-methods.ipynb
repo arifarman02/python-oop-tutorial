{
 "cells": [
  {
   "cell_type": "markdown",
   "metadata": {},
   "source": [
    "Regular methods in a class automatically take the instance as the first argument. We can use class methods so that the class itself is passed as the first argument instead of the instance. We use decorators to turn regular method into a class method. Just like the convention of using \"self\" to refer to the instance we use \"cls\"."
   ]
  },
  {
   "cell_type": "code",
   "execution_count": 2,
   "metadata": {},
   "outputs": [
    {
     "name": "stdout",
     "output_type": "stream",
     "text": [
      "1.04\n",
      "1.04\n",
      "1.04\n",
      "\n",
      "\n",
      "1.05\n",
      "1.05\n",
      "1.05\n"
     ]
    }
   ],
   "source": [
    "class Employee():\n",
    "\n",
    "    num_of_emps = 0\n",
    "    raise_amount = 1.04\n",
    "\n",
    "    def __init__(self, first, last, pay):\n",
    "        self.first = first\n",
    "        self.last = last\n",
    "        self.pay = pay\n",
    "        self.email = first + \".\" + last + \"@company.com\"\n",
    "        \n",
    "        Employee.num_of_emps += 1\n",
    "    \n",
    "    def fullname(self):\n",
    "        print(f\"{self.first} {self.last}\")\n",
    "    \n",
    "    def apply_raise(self):\n",
    "        self.pay = int(self.pay * self.raise_amount)\n",
    "\n",
    "    @classmethod\n",
    "    def set_raise_amount(cls, amount):\n",
    "        cls.raise_amount = amount\n",
    "\n",
    "emp_1 = Employee(\"Monty\", \"Python\", 50000)\n",
    "emp_2 = Employee(\"Holy\", \"Grail\", 60000)\n",
    "\n",
    "print(Employee.raise_amount)\n",
    "print(emp_1.raise_amount)\n",
    "print(emp_2.raise_amount)\n",
    "\n",
    "print(\"\\n\")\n",
    "\n",
    "Employee.set_raise_amount(1.05)\n",
    "\n",
    "print(Employee.raise_amount)\n",
    "print(emp_1.raise_amount)\n",
    "print(emp_2.raise_amount)"
   ]
  }
 ],
 "metadata": {
  "kernelspec": {
   "display_name": "Python 3",
   "language": "python",
   "name": "python3"
  },
  "language_info": {
   "codemirror_mode": {
    "name": "ipython",
    "version": 3
   },
   "file_extension": ".py",
   "mimetype": "text/x-python",
   "name": "python",
   "nbconvert_exporter": "python",
   "pygments_lexer": "ipython3",
   "version": "3.10.5"
  }
 },
 "nbformat": 4,
 "nbformat_minor": 2
}
