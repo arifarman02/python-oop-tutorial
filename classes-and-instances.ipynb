{
 "cells": [
  {
   "cell_type": "markdown",
   "metadata": {},
   "source": [
    "Classes allow us to logically group our data and functions (attributes and methods) in a way that is easy to re-use and also to build upon if need be. Classes are created using the \"class\" keyword. A class is a blueprint for creating instances."
   ]
  },
  {
   "cell_type": "code",
   "execution_count": 2,
   "metadata": {},
   "outputs": [],
   "source": [
    "class Employee:\n",
    "    pass\n",
    "\n",
    "emp_1 = Employee()\n",
    "emp_2 = Employee()"
   ]
  },
  {
   "cell_type": "markdown",
   "metadata": {},
   "source": [
    "Instance variables contain data that is unique to each instance. This can be manually done after creating an instance"
   ]
  },
  {
   "cell_type": "code",
   "execution_count": 3,
   "metadata": {},
   "outputs": [
    {
     "name": "stdout",
     "output_type": "stream",
     "text": [
      "Monty.Python@company.com\n",
      "Holy.Grail@company.com\n"
     ]
    }
   ],
   "source": [
    "emp_1.first = \"Monty\"\n",
    "emp_1.last = \"Python\"\n",
    "emp_1.email = \"Monty.Python@company.com\"\n",
    "emp_1.pay = 50000\n",
    "\n",
    "emp_2.first = \"Holy\"\n",
    "emp_2.last = \"Grail\"\n",
    "emp_2.email = \"Holy.Grail@company.com\"\n",
    "emp_2.pay = 60000\n",
    "\n",
    "print(emp_1.email)\n",
    "print(emp_2.email)"
   ]
  },
  {
   "cell_type": "markdown",
   "metadata": {},
   "source": [
    "Classes have a special \"__init__\" method (a constructor). When we create a method of a class, we have to pass in the instance as the first argument. By convention we use the word \"self\". We then pass in the other arguments that we want to accept, which we set using \"self\". What this means is that instead of doing \"emp_1.first = \"Monty\"\" it's done automatically when we create our Employee objects."
   ]
  },
  {
   "cell_type": "code",
   "execution_count": null,
   "metadata": {},
   "outputs": [
    {
     "name": "stdout",
     "output_type": "stream",
     "text": [
      "Monty.Python@company.com\n",
      "Holy.Grail@company.com\n"
     ]
    }
   ],
   "source": [
    "class Employee():\n",
    "    def __init__(self, first, last, pay):\n",
    "        self.first = first\n",
    "        self.last = last\n",
    "        self.pay = pay\n",
    "        self.email = first + \".\" + last + \"@company.com\"\n",
    "\n",
    "emp_1 = Employee(\"Monty\", \"Python\", 50000)\n",
    "emp_2 = Employee(\"Holy\", \"Grail\", 60000)\n",
    "\n",
    "print(emp_1.email)\n",
    "print(emp_2.email)"
   ]
  },
  {
   "cell_type": "markdown",
   "metadata": {},
   "source": [
    "We can create methods() in our classes to do some kind of action like displaying employee's full name instead of writing out the code for each employee. Note that we have to expect the instance as an arugment in our method (\"self\") as the instance is being passed automatically into our mothod()"
   ]
  },
  {
   "cell_type": "code",
   "execution_count": 9,
   "metadata": {},
   "outputs": [
    {
     "name": "stdout",
     "output_type": "stream",
     "text": [
      "Monty Python\n",
      "None\n",
      "Holy Grail\n",
      "None\n"
     ]
    }
   ],
   "source": [
    "class Employee():\n",
    "    def __init__(self, first, last, pay):\n",
    "        self.first = first\n",
    "        self.last = last\n",
    "        self.pay = pay\n",
    "        self.email = first + \".\" + last + \"@company.com\"\n",
    "    \n",
    "    def fullname(self):\n",
    "        print(f\"{self.first} {self.last}\")\n",
    "\n",
    "emp_1 = Employee(\"Monty\", \"Python\", 50000)\n",
    "emp_2 = Employee(\"Holy\", \"Grail\", 60000)\n",
    "\n",
    "print(emp_1.fullname())\n",
    "print(emp_2.fullname())"
   ]
  },
  {
   "cell_type": "markdown",
   "metadata": {},
   "source": [
    "We can run our methods using the class name itself, which makes our code much more easier to understand. When we run our method from a class we have to pass in the instance as an argument as the class does not know which instance to run."
   ]
  },
  {
   "cell_type": "code",
   "execution_count": 10,
   "metadata": {},
   "outputs": [
    {
     "name": "stdout",
     "output_type": "stream",
     "text": [
      "Monty Python\n"
     ]
    }
   ],
   "source": [
    "Employee.fullname(emp_1)"
   ]
  }
 ],
 "metadata": {
  "kernelspec": {
   "display_name": "Python 3",
   "language": "python",
   "name": "python3"
  },
  "language_info": {
   "codemirror_mode": {
    "name": "ipython",
    "version": 3
   },
   "file_extension": ".py",
   "mimetype": "text/x-python",
   "name": "python",
   "nbconvert_exporter": "python",
   "pygments_lexer": "ipython3",
   "version": "3.10.5"
  }
 },
 "nbformat": 4,
 "nbformat_minor": 2
}
